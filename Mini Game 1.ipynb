{
 "cells": [
  {
   "cell_type": "code",
   "execution_count": 1,
   "metadata": {},
   "outputs": [
    {
     "name": "stdout",
     "output_type": "stream",
     "text": [
      "You wanna play? (Yes/No)n\n"
     ]
    }
   ],
   "source": [
    "from random import randint\n",
    "while True:\n",
    "    answer = input(\"You wanna play? (Yes/No)\").lower()\n",
    "    if answer == \"yes\":\n",
    "        number = randint(1,10)\n",
    "        while True:\n",
    "            hasilnebak = int(input(\"Guess the number!!! (1-10):\"))\n",
    "            if hasilnebak>number:\n",
    "                print(\"Lebih kecil\")\n",
    "            elif hasilnebak<number:\n",
    "                print(\"Lebih besar\")\n",
    "            else:\n",
    "                print(\"Selamat! Tebakan kamu benar!\")\n",
    "                break\n",
    "    else:\n",
    "        break"
   ]
  }
 ],
 "metadata": {
  "kernelspec": {
   "display_name": "Python 3",
   "language": "python",
   "name": "python3"
  },
  "language_info": {
   "codemirror_mode": {
    "name": "ipython",
    "version": 3
   },
   "file_extension": ".py",
   "mimetype": "text/x-python",
   "name": "python",
   "nbconvert_exporter": "python",
   "pygments_lexer": "ipython3",
   "version": "3.7.9"
  }
 },
 "nbformat": 4,
 "nbformat_minor": 4
}
